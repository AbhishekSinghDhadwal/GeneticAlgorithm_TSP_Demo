{
  "nbformat": 4,
  "nbformat_minor": 0,
  "metadata": {
    "colab": {
      "name": "GA_TSP_Demonstration.ipynb",
      "provenance": [],
      "collapsed_sections": []
    },
    "kernelspec": {
      "name": "python3",
      "display_name": "Python 3"
    }
  },
  "cells": [
    {
      "cell_type": "markdown",
      "metadata": {
        "id": "m0Murtn3gcit"
      },
      "source": [
        "# **Genetic Algorithm demonstration using TSP** \n",
        "###### Problem statement - Use genetic algorithms to solve the Travelling Salesperson Problem (TSP) on a large fully connected graph (about 50 nodes)\n",
        "Created by : Abhishek Singh Dhadwal \n",
        "\n",
        "\n",
        "**NOTE - Press Ctrl + F9 to run all code snippets (in Colab)**\n",
        "\n",
        "TSP - Given a set of cities and distances between every pair of cities, find the shortest way of visiting all the cities exactly once and returning to the starting city.\n"
      ]
    },
    {
      "cell_type": "markdown",
      "metadata": {
        "id": "yl4iAPWEcvGc"
      },
      "source": [
        "# Pre-preparation command for colab instance : \n",
        "\n",
        "Run to import dependencies into the project."
      ]
    },
    {
      "cell_type": "code",
      "metadata": {
        "id": "iWOpnpHDcur4"
      },
      "source": [
        "import math\n",
        "import random\n",
        "from timeit import default_timer as timer # Used for timing data\n",
        "from tqdm import tqdm\n",
        "import matplotlib.pyplot as plt"
      ],
      "execution_count": null,
      "outputs": []
    },
    {
      "cell_type": "markdown",
      "metadata": {
        "id": "aFDRyzKOEa0W"
      },
      "source": [
        "#Input Generation :\n",
        "We generate the input for our program by creating unique co-ordinates having values ranging from 1 to 1000 (both x and y) via pseudorandom number generators.\n",
        "We find out out the Euclidean distances between all of them and store them in our matrix.\n",
        "\n",
        "Distances are generated in this manner in order to satisfy triangle inequalities, allowing our heuristic to perform better.\n",
        "\n",
        "i/p : numV, number of vertices required\n",
        "\n",
        "o/p : Tgraph, a numV x numV matrix containing distances between all the points, such that Tgraph[i][j] gives distance from the ith point to the jth point"
      ]
    },
    {
      "cell_type": "code",
      "metadata": {
        "id": "uau2_BCcJgvd"
      },
      "source": [
        "def randomIPGen(numV):\n",
        "  #numV = int(input(\"Enter the number of vertices required for input graph :\"))\n",
        "  indiceDict = {} # Checks for duplicate indices\n",
        "  coordlist = [] # Stores randomly generated co-ordinates\n",
        "  for i in range(numV):\n",
        "    r1 = random.randint(1, 1000)\n",
        "    r2 = random.randint(1, 1000)\n",
        "    if r1 not in indiceDict.keys() :\n",
        "      while r1 not in indiceDict.keys() :\n",
        "        r1 = random.randint(1, 1000)\n",
        "        r2 = random.randint(1, 1000)\n",
        "        indiceDict[r1] = r2\n",
        "    coordlist.append([r1,r2])\n",
        "  Tgraph = [[-1 for i in range(numV)] for j in range(numV)]\n",
        "  for i in range(numV):\n",
        "    for j in range(numV):\n",
        "      if Tgraph[i][j] == -1:\n",
        "        # Eucledian distance\n",
        "        Tgraph[i][j] = math.sqrt( ((coordlist[i][0]-coordlist[j][0])**2)+((coordlist[i][1]-coordlist[j][1])**2)) \n",
        "        Tgraph[j][i] = Tgraph[i][j]\n",
        "  print(\"\\nRandomly generated graph of \",numV,\"vertices :\")\n",
        "  for i in Tgraph :\n",
        "    print(i)\n",
        "  print()\n",
        "  return Tgraph\n",
        "#distMatrix = randomIPGen(5)"
      ],
      "execution_count": null,
      "outputs": []
    },
    {
      "cell_type": "markdown",
      "metadata": {
        "id": "9iy_w9N9IfBx"
      },
      "source": [
        "#Population creation :\n",
        "A member of the population is defined as a random sampling of all the city indices present, i.e a randomly generated route from city 0, traversing through all the cities, and returning to the city of origin itself.\n",
        "\n",
        "We run a for loop to generate the required number of input samples\n",
        "\n",
        "Function: createPopulation\n",
        "\n",
        "i/p : numCities(number of cities present in the list),numPop(number of members required to be created)\n",
        "\n",
        "o/p : population(list of lists, with each sub-list containing one randomly generated route)"
      ]
    },
    {
      "cell_type": "code",
      "metadata": {
        "id": "nKFlPtfsIfUp"
      },
      "source": [
        "import random\n",
        "def createPopulation(numCities,numPop):\n",
        "  cityList = [i for i in range(1,numCities)]\n",
        "  population = []\n",
        "  for i in range(numPop):\n",
        "    currSample = [0]\n",
        "    # Generates a random route as input via sampling\n",
        "    # Note : For smaller number of inputs identical routes may get generated\n",
        "    currSample.extend(random.sample(cityList, len(cityList)))\n",
        "    currSample.append(0)\n",
        "    population.append(currSample)\n",
        "  print(\"Population generated :\")\n",
        "  for i in population :\n",
        "    print(i)\n",
        "  return population\n",
        "#pop = (createPopulation(5,5))"
      ],
      "execution_count": null,
      "outputs": []
    },
    {
      "cell_type": "markdown",
      "metadata": {
        "id": "eZHS-QK7L20n"
      },
      "source": [
        "#Fitness function :\n",
        "We define our fitness function as the inverse of the total distance covered by our route\n",
        "\n",
        "function : fitness()\n",
        "\n",
        "i/p : path(a list of indices satisfying the hamiltonian cycle property),distMatrix(data containing the distance matrix)\n",
        "\n",
        "o/p : fitnessVal (the fitness value created by the route)"
      ]
    },
    {
      "cell_type": "code",
      "metadata": {
        "id": "9aJmMzNkL3JQ"
      },
      "source": [
        "def fitness(path,distMatrix):\n",
        "  # Corner case, fitness function of a route less than two points can cause a ZeroDivisionError\n",
        "  if len(path) < 2:\n",
        "    print('less than two points selected')\n",
        "    return -1\n",
        "  pathDist = 0\n",
        "  # Summing up the distance covered in the path\n",
        "  for i in range(1,len(path)):\n",
        "    pathDist += distMatrix[path[i-1]][path[i]]\n",
        "  #print(pathDist)\n",
        "  return 1/pathDist\n",
        "#fitnessSample = fitness(pop[0],distMatrix)\n",
        "#print(\"fitness score :\" , fitnessSample)"
      ],
      "execution_count": null,
      "outputs": []
    },
    {
      "cell_type": "markdown",
      "metadata": {
        "id": "7Lo51y82dnhO"
      },
      "source": [
        "#Selection of population input for crossovers\n",
        "We use the random roulette method for selection of input.\n",
        "We add all the fitness function values, then scale them in the scale of 1, by dividing each one by the sum. \n",
        "Suppose the values for the paths are A(0.4), B(0.3), C(0.25) and D(0.05). Then we create a random floating-point number in the range [0, 1]. We decide our input in the following manner:\n",
        "\n",
        "random number \n",
        "              \n",
        "              between 0.00 and 0.40 -> pick A\n",
        "              \n",
        "              between 0.40 and 0.70 -> pick B\n",
        "\n",
        "              between 0.70 and 0.95 -> pick C\n",
        "\n",
        "              between 0.95 and 1.00 -> pick D\n",
        "\n",
        "Function crossoverPool()\n",
        "\n",
        "i/p : pathFitness ( list containing the fitness values of all of the paths),nextgenLen(the amount of participants that shall crossover to the next generation, we aim to keep this length the same as our length before, but may experiment with fraction of outputs)\n",
        "\n",
        "o/p : pathList (the path pairs selected for crossover)"
      ]
    },
    {
      "cell_type": "code",
      "metadata": {
        "id": "kfslfnL_deR-"
      },
      "source": [
        "def crossoverPool(pathFitness,nextgenLen = None):\n",
        "  \n",
        "  # Usual case, as we do not attempt to sieve the number of inputs \n",
        "  # Per generation\n",
        "  if not nextgenLen:\n",
        "    nextgenLen = len(pathFitness)\n",
        "  \n",
        "  # Finding cumulative sum and dividing each term to a scale of 1\n",
        "  cumulativeSum = sum(pathFitness)\n",
        "  for i in range(len(pathFitness)):\n",
        "    pathFitness[i] /= cumulativeSum\n",
        "  \n",
        "  # We find cumulative sum till the ith member for each member\n",
        "  cumulativeSumData = []\n",
        "  tempSum = 0\n",
        "  for i in range(len(pathFitness)):\n",
        "    tempSum += pathFitness[i]\n",
        "    cumulativeSumData.append(tempSum)\n",
        "\n",
        "  pool = []\n",
        "  #print(\"cumulativeSumData: \",cumulativeSumData)\n",
        "  #print(nextgenLen)\n",
        "  \n",
        "  # The cumulative sum shall act as the ranges for the probability values\n",
        "  for i in range(nextgenLen):\n",
        "\n",
        "    randomSelect = random.uniform(0, 1)\n",
        "    #print(\"Random value is:\",randomSelect)\n",
        "    if randomSelect >= 0 and randomSelect <= cumulativeSumData[0] :\n",
        "        #print(\"between 0 and \",cumulativeSumData[0])\n",
        "        #print(\"Hence point :\",0, \"is selected\")\n",
        "        pool.append(0)\n",
        "    else :   \n",
        "      for j in range(1,len(cumulativeSumData)):\n",
        "        if randomSelect >= cumulativeSumData[j-1] and randomSelect <= cumulativeSumData[j]:\n",
        "          #print(\"between\",cumulativeSumData[j-1],\"and \",cumulativeSumData[j])\n",
        "          #print(\"Hence point :\",j, \"is selected\")\n",
        "          pool.append(j)\n",
        "          break\n",
        "  \n",
        "  return pool\n",
        "#print(crossoverPool([0.40,0.3,0.25,0.05]))\n",
        "#print(crossoverPool([0.00329705789659154, 0.003361578831013579, 0.003994012528916378, 0.00329191081571447, 0.0030935943701059796]))"
      ],
      "execution_count": null,
      "outputs": []
    },
    {
      "cell_type": "markdown",
      "metadata": {
        "id": "RCXfmvw3deCS"
      },
      "source": [
        "# Crossover function :\n",
        "We perform ordered crossovers in the following manner - \n",
        "\n",
        "1. We select a random subset from the first array\n",
        "2. We select all the elements not present in the subset and place them in the order stored in the second array\n",
        "\n",
        "Function crossover()\n",
        "\n",
        "i/p : parentA, parentB ( the arrays selected for crossing over)\n",
        "\n",
        "o/p : child (the crossover product)\n"
      ]
    },
    {
      "cell_type": "code",
      "metadata": {
        "id": "6LD1p-Pr6eyS"
      },
      "source": [
        "def crossover(pA,pB):\n",
        "  # ADD THE 0TH PATH IN ALL THE PATHS\n",
        "  parentA = pA.copy()\n",
        "  parentB = pB.copy()\n",
        "  parentA = [i for i in parentA if i != 0]\n",
        "  parentB = [i for i in parentB if i != 0]\n",
        "\n",
        "  # Ranges of subarray to be selected from parent\n",
        "  sub1 = random.randint(0,len(parentA)-1)\n",
        "  sub2 = random.randint(0,len(parentA)-1)\n",
        "  sub1 = min(sub1,sub2)\n",
        "  sub2 = max(sub1,sub2)\n",
        "  \n",
        "  child = [-1 for i in range(len(parentA))]\n",
        "  #print(len(parentA))\n",
        "  #print(parentA[sub1:sub2+1])\n",
        "\n",
        "  # We place the selected subarray in the child array\n",
        "  child[sub1:sub2+1] = parentA[sub1:sub2+1]\n",
        "  \n",
        "  # We remove the items present in the selected parentA subarray from parentB\n",
        "  for i in parentA[sub1:sub2+1] :\n",
        "    parentB.remove(i)\n",
        "  \n",
        "  # The rest of the child array is pasted with items from parentB \n",
        "  # in the order placed in the parentB array\n",
        "  child[0:sub1] = parentB[0:sub1]\n",
        "  child[sub2+1:] = parentB[sub1:]\n",
        "  \n",
        "  # Adding 0 to both ends in order to ease path computation\n",
        "  child.insert(0,0)\n",
        "  child.append(0)\n",
        "  return child\n",
        "#a = crossover([0,1,2,3,4,5,6,7,8,9,0],[0,9,8,7,6,5,4,3,2,1,0])\n",
        "#print(a)"
      ],
      "execution_count": null,
      "outputs": []
    },
    {
      "cell_type": "markdown",
      "metadata": {
        "id": "CJtettEU-9VY"
      },
      "source": [
        "# Mutation function :\n",
        "We perform mutation by swapping two random cities in our given output. This is done to prevent our program from getting stuck in a local minima.\n",
        "\n",
        "The probability of this mutation will be low (i.e about 0.05).\n",
        "\n",
        "function mutate:\n",
        "\n",
        "i/p : path (path to be mutated)\n",
        "\n",
        "o/p : mPath (mutated version of our path)"
      ]
    },
    {
      "cell_type": "code",
      "metadata": {
        "id": "onbCfBAu--mM"
      },
      "source": [
        "def mutate(path):\n",
        "  # We choose the ranges in order to prevent swapping 0 from any other element\n",
        "  r1 = random.randint(1,len(path)-2)\n",
        "  r2 = random.randint(1,len(path)-2)\n",
        "  #Ensuring different random indices are selected \n",
        "  while r1 == r2:\n",
        "    r2 = random.randint(1,len(path)-2)\n",
        "  temp = path[r1]\n",
        "  path[r1] = path[r2]\n",
        "  path[r2] = temp\n",
        "  return path\n",
        "#print(mutate([0,1,2,3,4,5,6,7,8,9,0]))"
      ],
      "execution_count": null,
      "outputs": []
    },
    {
      "cell_type": "markdown",
      "metadata": {
        "id": "az5-JA3QA2m7"
      },
      "source": [
        "# Main function\n",
        "We ask the user to input the following features :\n",
        "\n",
        "1. The number of vertices required (number of cities)\n",
        "2. The count of initial population\n",
        "3. The number of generations for the algorithm\n",
        "4. The probability of mutation (default taken as 0.05)\n",
        "\n"
      ]
    },
    {
      "cell_type": "code",
      "metadata": {
        "id": "NHZWLgpjA4Jl"
      },
      "source": [
        "numCities = int(input(\"Enter the number of cities required in the path: \"))\n",
        "numPop = int(input(\"Enter the count for initial population: \"))\n",
        "numGen = int(input(\"Enter the number of generations to run the algorithm: \"))\n",
        "probMutation = float(input(\"Enter the probability of mutation: \"))\n",
        "\n",
        "'''\n",
        "numCities = 50\n",
        "numPop = 50\n",
        "numGen = 1000\n",
        "probMutation = 0.05\n",
        "'''\n",
        "start = timer()\n",
        "# Creating distance matrix and initial population\n",
        "distMatrix = randomIPGen(numCities)\n",
        "initPop = createPopulation(numCities,numPop)\n",
        "\n",
        "# Stores best paths and best fitness overall, along with generation\n",
        "bestPathOverall = []\n",
        "bestFitnessOverall = [-1,-1]\n",
        "# Stores best fitness of that gen\n",
        "bestFGen = []\n",
        "for currGen in tqdm(range(numGen)):\n",
        "  fitnessGen = []\n",
        "  # Getting fitness for all of the participants\n",
        "  for pop in initPop:\n",
        "    fitnessGen.append(fitness(pop,distMatrix))\n",
        "  # Finding the best path in current Generation, i.e path with highest\n",
        "  # fitness function\n",
        "  maxFitness = max(fitnessGen)\n",
        "  bestFGen.append(maxFitness)\n",
        "  bestfitnessGen = fitnessGen.index(maxFitness)\n",
        "\n",
        "  # We check if the maximum fitness in our current gen is greater than the\n",
        "  # Maximum overall fitness, if true we replace current overall maximum \n",
        "  # without generation's maximum value\n",
        "  if maxFitness > bestFitnessOverall[0]:\n",
        "    bestFitnessOverall[0] = maxFitness\n",
        "    bestFitnessOverall[1] = currGen\n",
        "    bestPathOverall = initPop[bestfitnessGen].copy()\n",
        "\n",
        "  # Selecting population for crossing over to create the next generation\n",
        "  crossoverSelects = crossoverPool(fitnessGen)\n",
        "  # Stores the next Generation\n",
        "  nextGen = []\n",
        "  \n",
        "  # Creating next generation\n",
        "  for i in range(len(crossoverSelects)-1) :\n",
        "    currChild = crossover(initPop[crossoverSelects[i]],initPop[crossoverSelects[i+1]])  \n",
        "    # If randomly generated float between 0 and 1 is lower than \n",
        "    # Probability of mutation, then mutate \n",
        "    if random.uniform(0, 1) < probMutation :\n",
        "      currChild = mutate(currChild)\n",
        "    nextGen.append(currChild)\n",
        "\n",
        "  # Using the first and last element as parents for final child \n",
        "  currChild = crossover(initPop[crossoverSelects[0]],initPop[crossoverSelects[-1]])\n",
        "  if random.uniform(0, 1) < probMutation :\n",
        "    currChild = mutate(currChild)\n",
        "  nextGen.append(currChild)\n",
        "  initPop = nextGen.copy()\n",
        "\n",
        "# We plot 100 equally spaced fitness maxima in our graph\n",
        "if numGen > 100:\n",
        "  interval = numGen // 100\n",
        "else :\n",
        "  interval = 1\n",
        "x = [i for i in range(0,numGen,interval)]\n",
        "selectedGens = [bestFGen[i] for i in range(0,numGen,interval)] \n",
        "plt.plot(x, selectedGens,label = \"Fitness values\")\n",
        "plt.plot()\n",
        "plt.xlabel(\"Generations, selected in intervals of :\"+str(interval))\n",
        "plt.ylabel(\"Fitness function values for the given generation\")\n",
        "plt.title(\"Best fitness value for each generation\")\n",
        "plt.legend()\n",
        "plt.show()\n",
        "end = timer()\n",
        "\n",
        "# Printing output\n",
        "print()\n",
        "print(\"Input features : \")\n",
        "print(\"Number of cities : \",numCities)\n",
        "print(\"Initial population count : \",numPop,\" Number of generations : \",numGen, \" Probability of mutation : \",probMutation)\n",
        "print(\"Best fitness value : \",bestFitnessOverall[0], \" Generation of occurence : \", bestFitnessOverall[1]+1)\n",
        "print(\"Best path overall : \",bestPathOverall)\n",
        "print(\"Time taken to run program : \",end-start,\" seconds\")"
      ],
      "execution_count": null,
      "outputs": []
    }
  ]
}